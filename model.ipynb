{
  "cells": [
    {
      "cell_type": "code",
      "execution_count": 1,
      "metadata": {
        "id": "BaYWdiVe5m4u"
      },
      "outputs": [],
      "source": [
        "import gurobipy as grb\n",
        "from gurobipy import GRB\n",
        "import json\n",
        "import os\n",
        "import matplotlib.pyplot as plt\n",
        "import numpy as np\n",
        "import pandas as pd\n",
        "from mpl_toolkits import mplot3d"
      ]
    },
    {
      "cell_type": "code",
      "execution_count": 3,
      "metadata": {
        "id": "2lLyeCmz5m4v",
        "outputId": "f286c206-343d-4544-f77c-4b57eb480caf"
      },
      "outputs": [
        {
          "name": "stdout",
          "output_type": "stream",
          "text": [
            "dict_keys(['horizon', 'qualifications', 'staff', 'jobs'])\n"
          ]
        }
      ],
      "source": [
        "#load data\n",
        "path = \"./\"\n",
        "filename = \"medium_instance.json\"\n",
        "#filename = \"toy_instance.json\"\n",
        "with open(os.path.join(path, filename), \"r\") as f:\n",
        "    data = json.load(f)\n",
        "print(data.keys())\n",
        "\n",
        "jobs_names = [job[\"name\"] for job in data[\"jobs\"]]\n",
        "staff_names = [staff[\"name\"] for staff in data[\"staff\"]]\n",
        "job_infos = {}\n",
        "\n",
        "for job in data[\"jobs\"]:\n",
        "    job_infos[job[\"name\"]] = {\"gain\": int(job[\"gain\"]), \"daily_penalty\": int(job[\"daily_penalty\"]), \"due_date\": int(job[\"due_date\"]), \"qualifications_needed\": job[\"working_days_per_qualification\"].keys() }\n",
        "\n",
        "#ptite douille possible : changer les gains par un random eps pour \"casser les symétries\""
      ]
    },
    {
      "cell_type": "code",
      "execution_count": 4,
      "metadata": {
        "id": "yS0UV0ex5m4w",
        "outputId": "4f754335-ef4c-47cb-a5bb-8d339ac8ecae"
      },
      "outputs": [
        {
          "name": "stdout",
          "output_type": "stream",
          "text": [
            "Number of work day needed per staff :  27.0 day/staff\n"
          ]
        }
      ],
      "source": [
        "#For medium instance 27*5 work days are needed to complete all projects \n",
        "# (just a sum over each work day per project)\n",
        "#  with no regards to calendar & organization problem.\n",
        "\n",
        "# But the horizon is fixed to 22, so the problem can not be finished in time...\n",
        "\n",
        "s = 0\n",
        "for job in data['jobs']:\n",
        "    wpq = job['working_days_per_qualification']\n",
        "    for w in wpq:\n",
        "        s += wpq[w]\n",
        "print(\"Number of work day needed per staff : \", s / len(data['staff']), \"day/staff\")"
      ]
    },
    {
      "cell_type": "code",
      "execution_count": 5,
      "metadata": {
        "id": "NV2-203A5m4w"
      },
      "outputs": [],
      "source": [
        "N = dict()\n",
        "for job in data[\"jobs\"]:\n",
        "    N[job[\"name\"]] = {}\n",
        "    for comp in data[\"qualifications\"]:\n",
        "        N[job[\"name\"]][comp] = job[\"working_days_per_qualification\"][comp] if comp in job[\"working_days_per_qualification\"] else 0\n"
      ]
    },
    {
      "cell_type": "code",
      "execution_count": 6,
      "metadata": {
        "id": "8vA2w4mI5m4x"
      },
      "outputs": [
        {
          "name": "stdout",
          "output_type": "stream",
          "text": [
            "Set parameter Username\n",
            "Academic license - for non-commercial use only - expires 2024-01-12\n"
          ]
        }
      ],
      "source": [
        "tp_list = []\n",
        "\n",
        "# create var \n",
        "for elem in data[\"staff\"]:\n",
        "    for jour in range(1, data[\"horizon\"]+1):\n",
        "        if jour in elem[\"vacations\"]:\n",
        "            continue\n",
        "        for comp in elem[\"qualifications\"]:\n",
        "            for job in jobs_names:\n",
        "                if comp in job_infos[job][\"qualifications_needed\"]:\n",
        "                    tp_list.append((elem[\"name\"], comp, jour, job))\n",
        "\n",
        "# Create initial model.\n",
        "model = grb.Model(\"Model\")\n",
        "T = model.addVars(grb.tuplelist(tp_list), vtype=GRB.BINARY, name=\"T\")"
      ]
    },
    {
      "cell_type": "code",
      "execution_count": 7,
      "metadata": {
        "id": "M3Y-gNAU5m4x"
      },
      "outputs": [],
      "source": [
        "#Contraintes 1 à 3 déjà intégrées dans la création de T\n",
        "\n",
        "#Contrainte 4 \n",
        "model.addConstrs( (T.sum(staff, \"*\", jour, \"*\") <= 1 for staff in staff_names for jour in range(1, data[\"horizon\"]+1)), name=\"unicite_travail\");\n"
      ]
    },
    {
      "cell_type": "code",
      "execution_count": 8,
      "metadata": {
        "id": "xB6Oq2J_5m4x"
      },
      "outputs": [],
      "source": [
        "# On souhaite que les collaborateurs n’aient pas\n",
        "# à changer trop souvent de projet et, pour ce faire on s’attachera\n",
        "# à minimiser le nombre de projets sur lesquels un quelconque collaborateur est affecté.\n",
        "\n",
        "has_worked = {} #Pour chaque staff, = 1 si staff travaille au moins un jour sur job, 0 sinon\n",
        "days_worked_on_job = {}\n",
        "for staff in staff_names:\n",
        "    has_worked[staff] = {}\n",
        "    days_worked_on_job[staff] = {}\n",
        "    for job in jobs_names:\n",
        "        days_worked_on_job[staff][job] = model.addVar(vtype=GRB.INTEGER, name=f\"workdays_of_{staff}_on_job_{job}\")\n",
        "        model.addConstr(days_worked_on_job[staff][job] == T.sum(staff, \"*\", \"*\", job))\n",
        "\n",
        "        has_worked[staff][job] = model.addVar(vtype=GRB.BINARY, name=f\"{staff}_workAtLeastOneTimeIn_{job}\")\n",
        "        model.addGenConstrMin(has_worked[staff][job], [1, days_worked_on_job[staff][job]] )\n",
        "        \n",
        "    \n",
        "\n",
        "has_worked_sum = {} #Pour chaque staff, somme de has_worked (pour tout job)\n",
        "for staff in staff_names:\n",
        "    has_worked_sum[staff] = model.addVar(vtype=GRB.INTEGER, name=f\"{staff}_has_worked_on_N_job\")\n",
        "    model.addConstr(has_worked_sum[staff] == sum(has_worked[staff].values()) )\n",
        "\n",
        "max_has_worked = model.addVar(vtype=GRB.INTEGER, name=f\"max_projects_staff\")\n",
        "model.addGenConstrMax(max_has_worked, has_worked_sum.values() );\n",
        "    "
      ]
    },
    {
      "cell_type": "code",
      "execution_count": 9,
      "metadata": {
        "id": "hvTU4UVP5m4y",
        "outputId": "3904d7f4-3cb5-44f0-cec9-2bc995d89f9d"
      },
      "outputs": [
        {
          "data": {
            "text/plain": [
              "<gurobi.GenConstr *Awaiting Model Update*>"
            ]
          },
          "execution_count": 9,
          "metadata": {},
          "output_type": "execute_result"
        }
      ],
      "source": [
        "end_dates = {}\n",
        "start_dates={}\n",
        "\n",
        "worked = {} \n",
        "\n",
        "still_work_to_do = {}\n",
        "something_done_yet = {}\n",
        "\n",
        "job_lens = {}\n",
        "\n",
        "for job in jobs_names:\n",
        "    end_dates[job] = model.addVar(vtype=GRB.INTEGER, lb=-GRB.INFINITY, ub=data[\"horizon\"], name=f\"{job}_end_date\")\n",
        "    start_dates[job] = model.addVar(vtype=GRB.INTEGER, lb=-GRB.INFINITY, name=f\"{job}_start_date\")\n",
        "\n",
        "    worked[job] = []    #une liste de si du travail a ete fourni sur ce job à chaque jour\n",
        "\n",
        "    for jour in range(1, data[\"horizon\"]+1):\n",
        "        worked[job].append(model.addVar(vtype=GRB.BINARY, name=f\"{job}_beeing_worked_on_day_{jour}\"))\n",
        "        temp = model.addVar(vtype=GRB.INTEGER)\n",
        "        model.addConstr(temp == T.sum(\"*\", \"*\", jour, job))     #variable temporaire\n",
        "        model.addGenConstrMin(worked[job][-1], [1, temp])       #afin de dire que worked vaut soit 0 soit 1 (au lieu de faire un truc indicatrice)\n",
        "        \n",
        "\n",
        "    #ici on va créer une liste de variables qui valent soit 0 soit 1, et qui représentent, pour chaque jour, si du travail va encore etre fait dans le futur sur le job en question\n",
        "    #Ainsi, pour connaitre la date de fin d'un projet, il suffit de sommer les valeurs de cette liste !\n",
        "    #Cela est vrai parce qu'on affecte pas quelqu'un à un projet déjà fini\n",
        "    still_work_to_do[job] = [model.addVar(vtype=GRB.BINARY, lb=-GRB.INFINITY, name=f\"is_somebody_working_on_{job}_from_day_{jour}\") for jour in range(1, data[\"horizon\"]+1)]\n",
        "    for jour in range(1, data[\"horizon\"]+1):\n",
        "        model.addGenConstrMax(still_work_to_do[job][-jour], worked[job][-jour:])\n",
        "\n",
        "    #ici, même principe sauf qu'on va plutot regarder de facon binaire si au jour j, on a deja travaille sur ce projet\n",
        "    #pour connaitre la date de début, il suffira de prendre horizon - somme + 1\n",
        "    something_done_yet[job] = [model.addVar(vtype=GRB.BINARY, name=f\"has_somebody_worked_on_{job}_yet_day_{jour}\") for jour in range(1, data[\"horizon\"]+1)]\n",
        "    for jour in range(data[\"horizon\"]):\n",
        "        model.addGenConstrMax(something_done_yet[job][jour], worked[job][:jour+1])\n",
        "\n",
        "    model.addConstr(end_dates[job] == sum(still_work_to_do[job]))\n",
        "    model.addConstr(start_dates[job] == data[\"horizon\"] - sum(something_done_yet[job]) + 1)\n",
        "\n",
        "    job_lens[job] = model.addVar(vtype=GRB.INTEGER, lb=-GRB.INFINITY, name=f\"{job}_len\")\n",
        "    model.addConstr(job_lens[job] == end_dates[job] - start_dates[job] + 1)\n",
        "\n",
        "max_job_len = model.addVar(vtype=GRB.INTEGER, lb=-GRB.INFINITY, name=f\"max_job_len\")\n",
        "model.addGenConstrMax(max_job_len, job_lens.values())\n"
      ]
    },
    {
      "cell_type": "code",
      "execution_count": 10,
      "metadata": {
        "id": "V_mwCJiI5m4y",
        "outputId": "910fd929-2a36-4e58-9257-0f11ff938dea"
      },
      "outputs": [
        {
          "data": {
            "text/plain": [
              "<gurobi.Constr *Awaiting Model Update*>"
            ]
          },
          "execution_count": 10,
          "metadata": {},
          "output_type": "execute_result"
        }
      ],
      "source": [
        "\n",
        "#Definition de J (voir notion point 6)\n",
        "#MAJORANT = len(data[\"staff\"]) * data[\"horizon\"]\n",
        "#changer en majorant par compétence : tous les staffs n'ont pas toutes les comp -> peut déjà diminuer\n",
        "MAJORANT = {comp:0 for comp in data[\"qualifications\"]}\n",
        "for elem in data[\"staff\"]:\n",
        "    for comp in elem[\"qualifications\"]:\n",
        "        MAJORANT[comp] += 1\n",
        "for m in MAJORANT:\n",
        "    MAJORANT[m] *= data[\"horizon\"]\n",
        "\n",
        "\n",
        "all_Jjc = {}\n",
        "for job in jobs_names:\n",
        "    all_Jjc[job] = {}\n",
        "    for comp in job_infos[job][\"qualifications_needed\"]:\n",
        "        all_Jjc[job][comp] = model.addVar(vtype=GRB.BINARY, name=f\"{job}_{comp}\")\n",
        "        model.addConstr( MAJORANT[comp]*(all_Jjc[job][comp] - 1) <= T.sum(\"*\", comp, \"*\", job) - N[job][comp], name=f\"{job}_{comp}_sub_finished\") \n",
        "        model.addConstr( T.sum(\"*\", comp, \"*\", job) - N[job][comp] <= MAJORANT[comp]*all_Jjc[job][comp] - 1, name=f\"{job}_{comp}_upp_finished\") \n",
        "\n",
        "#la formulation correcte pour b = 1 si x>=y, 0 sinon c'est : M*(b - 1) <= x-y < M*b\n",
        "\"\"\"\n",
        "cas x=y, b=1\n",
        "    0 <= 0 < M OK\n",
        "cas x=y, b=0\n",
        "    -M <= 0 < 0 NON\n",
        "cas x<y, b=1\n",
        "    0 <= strict neg < 0 NON\n",
        "cas x<y, b=0\n",
        "    -M <= strict neg < 0 OK\n",
        "cas x>y, b=1\n",
        "    0 <= strict pos < M OK\n",
        "cas x>y, b=0\n",
        "    -M <= strict pos <0 NON\n",
        "\"\"\"\n",
        "\n",
        "\n",
        "all_J = {}\n",
        "for job in jobs_names:\n",
        "    all_J[job] = model.addVar(vtype=GRB.BINARY, name=f\"{job}_finished\")\n",
        "    model.addGenConstrMin(all_J[job], [all_Jjc[job][comp] for comp in job_infos[job][\"qualifications_needed\"]], name=f\"{job}_finished\") \n",
        "    \n",
        "    #On ne travaille pas sur un projet déjà fini, et on ne travaille pas plus que necessaire sur un projet\n",
        "    model.addConstr(T.sum(\"*\", \"*\", \"*\", job) <= all_J[job] * sum(N[job].values()))\n",
        "\n",
        "\n",
        "\n",
        "\n",
        "gains = {}\n",
        "for job in jobs_names:\n",
        "    retard = model.addVar(vtype=GRB.INTEGER, name=f\"days_late_{job}\")\n",
        "    temp = model.addVar(vtype=GRB.INTEGER, lb=-GRB.INFINITY)\n",
        "    model.addConstr(temp == end_dates[job] - job_infos[job][\"due_date\"])\n",
        "    model.addGenConstrMax(retard, [0, temp])\n",
        "    gains[job] = model.addVar(vtype=GRB.INTEGER, lb=-GRB.INFINITY, name=f\"gains_{job}\")\n",
        "    model.addConstr(gains[job] == all_J[job] * (job_infos[job][\"gain\"] - job_infos[job][\"daily_penalty\"] * retard) - (1-all_J[job]) * job_infos[job][\"daily_penalty\"] * (data[\"horizon\"]-job_infos[job][\"due_date\"]) )\n",
        "\n",
        "gain_total = model.addVar(vtype=GRB.INTEGER, lb=-GRB.INFINITY, name=\"gain\")\n",
        "model.addConstr(gain_total == sum(gains.values()))\n"
      ]
    },
    {
      "cell_type": "code",
      "execution_count": 30,
      "metadata": {
        "id": "wWG_4tee5m4y"
      },
      "outputs": [],
      "source": [
        "def set_objectives(gains = True, number_projects_staff = True, length_project = True, only_most=True):\n",
        "    model.ModelSense = GRB.MAXIMIZE\n",
        "    model.setObjectiveN(gain_total, index=0, priority=3, name='Jobs', weight=1)\n",
        "\n",
        "    if only_most:\n",
        "        if number_projects_staff:\n",
        "            model.setObjectiveN(max_has_worked, index=1, priority=2, weight=-1)  #weight = -1 to minimize\n",
        "        \n",
        "        if length_project:\n",
        "            model.setObjectiveN(max_job_len, index=2, priority=1, weight=-1)   #weight = -1 to minimize\n",
        "    else:\n",
        "        if number_projects_staff:\n",
        "            for i, staff in enumerate(staff_names):\n",
        "                model.setObjectiveN(has_worked_sum[staff], index=1+i, priority=2, weight=-1)  #weight = -1 to minimize\n",
        "        if length_project:\n",
        "            for k, job in enumerate(jobs_names):\n",
        "                model.setObjectiveN(job_lens[job], index=1+i+k, priority=1, weight=-1)   #weight = -1 to minimize\n",
        "\n",
        "def get_grid_solutions():\n",
        "    \"\"\"Une alternative à l'algorithme epsilon contraint\"\"\"\n",
        "    model.params.outputflag = 0\n",
        "    model.setObjective(gain_total, GRB.MAXIMIZE)    \n",
        "    for n_projects in range(1, len(jobs_names)+1):\n",
        "        n_projects_constraint = model.addConstr(max_has_worked == n_projects)\n",
        "        for length_project in range(1, data[\"horizon\"]+1):\n",
        "            length_project_constraint = model.addConstr(max_job_len == length_project)\n",
        "            model.optimize()\n",
        "            \n",
        "            status = model.Status\n",
        "            if status == GRB.Status.INFEASIBLE or status == GRB.Status.INF_OR_UNBD:#  or status == GRB.Status.UNBOUNDED:# or status != GRB.Status.OPTIMAL:\n",
        "                print(f\"n_projects: {n_projects}, length_project: {length_project} not doable\", end=\"\\r\")\n",
        "            else:\n",
        "            #try:\n",
        "                print(f\"Gain: {int(gain_total.X)}, n_projects: {n_projects}, length_project: {length_project}\")\n",
        "\n",
        "                with open(f\"weakly_ND_{filename.split('_')[0]}.txt\", \"a+\") as f:\n",
        "                    f.write(f\"\\n{int(gain_total.X)},{n_projects},{length_project}\")\n",
        "            #except:\n",
        "            #    pass\n",
        "            model.remove(length_project_constraint)\n",
        "\n",
        "        model.remove(n_projects_constraint)\n",
        "    \n",
        "    remove_dominated_sols()\n",
        "\n",
        "def remove_dominated_sols():\n",
        "    WND_sols = []\n",
        "    with open(f\"weakly_ND_{filename.split('_')[0]}.txt\", \"r\") as f:\n",
        "        for line in f.readlines():\n",
        "            line = line.replace(\"\\n\", \"\")\n",
        "            if len(line) > 0:\n",
        "                WND_sols.append([int(metric) for metric in line.split(',')])\n",
        "    \n",
        "    ND_sols = []\n",
        "\n",
        "    for gain, n_projects, length_project in WND_sols:\n",
        "        keep = True\n",
        "        for other_gain, other_n_projects, other_length_project in WND_sols:\n",
        "            if gain <= other_gain and n_projects >= other_n_projects and length_project >= other_length_project:\n",
        "                if gain - n_projects - length_project < other_gain - other_n_projects - other_length_project:\n",
        "                    keep = False\n",
        "                    break\n",
        "        if keep:\n",
        "            ND_sols.append([gain, n_projects, length_project])\n",
        "    \n",
        "    with open(f\"ND_{filename.split('_')[0]}.txt\", \"w+\") as f:\n",
        "        for sol in ND_sols:\n",
        "            f.write(f\"{sol[0]},{sol[1]},{sol[2]}\\n\")\n"
      ]
    },
    {
      "cell_type": "code",
      "execution_count": 22,
      "metadata": {
        "id": "kQZwydRW5m4z"
      },
      "outputs": [
        {
          "name": "stdout",
          "output_type": "stream",
          "text": [
            "Gain: 44, n_projects: 1, length_project: 12\n"
          ]
        }
      ],
      "source": [
        "#model.Params.TimeLimit = 120\n",
        "get_grid_solutions()"
      ]
    },
    {
      "cell_type": "code",
      "execution_count": 11,
      "metadata": {
        "id": "o_s2G8UM5m4z",
        "outputId": "95d34772-f78b-4299-8276-f44978cce1bf"
      },
      "outputs": [
        {
          "name": "stdout",
          "output_type": "stream",
          "text": [
            "Gurobi Optimizer version 10.0.0 build v10.0.0rc2 (win64)\n",
            "\n",
            "CPU model: Intel(R) Core(TM) i5-9300H CPU @ 2.40GHz, instruction set [SSE2|AVX|AVX2]\n",
            "Thread count: 4 physical cores, 8 logical processors, using up to 8 threads\n",
            "\n",
            "Optimize a model with 104 rows, 271 columns and 714 nonzeros\n",
            "Model fingerprint: 0x199ae1c0\n",
            "Model has 5 quadratic constraints\n",
            "Model has 102 general constraints\n",
            "Variable types: 0 continuous, 271 integer (195 binary)\n",
            "Coefficient statistics:\n",
            "  Matrix range     [1e+00, 1e+01]\n",
            "  QMatrix range    [3e+00, 3e+00]\n",
            "  QLMatrix range   [1e+00, 3e+01]\n",
            "  Objective range  [1e+00, 1e+00]\n",
            "  Bounds range     [1e+00, 5e+00]\n",
            "  RHS range        [1e+00, 9e+00]\n",
            "  QRHS range       [3e+00, 6e+00]\n",
            "  GenCon const rng [1e+00, 1e+00]\n",
            "\n",
            "---------------------------------------------------------------------------\n",
            "Multi-objectives: starting optimization with 3 objectives ... \n",
            "---------------------------------------------------------------------------\n",
            "\n",
            "Multi-objectives: applying initial presolve ...\n",
            "---------------------------------------------------------------------------\n",
            "\n",
            "Presolve added 308 rows and 87 columns\n",
            "Presolve time: 0.19s\n",
            "Presolved: 412 rows and 358 columns\n",
            "---------------------------------------------------------------------------\n",
            "\n",
            "Multi-objectives: optimize objective 1 (Jobs) ...\n",
            "---------------------------------------------------------------------------\n",
            "\n",
            "Found heuristic solution: objective -15.0000000\n",
            "Presolve removed 137 rows and 131 columns\n",
            "Presolve time: 0.03s\n",
            "Presolved: 275 rows, 227 columns, 1094 nonzeros\n",
            "Variable types: 0 continuous, 227 integer (185 binary)\n",
            "\n",
            "Root relaxation: objective 8.100000e+01, 237 iterations, 0.04 seconds (0.00 work units)\n",
            "\n",
            "    Nodes    |    Current Node    |     Objective Bounds      |     Work\n",
            " Expl Unexpl |  Obj  Depth IntInf | Incumbent    BestBd   Gap | It/Node Time\n",
            "\n",
            "     0     0   81.00000    0   23  -15.00000   81.00000   640%     -    0s\n",
            "H    0     0                      24.0000000   81.00000   238%     -    0s\n",
            "H    0     0                      59.0000000   79.00000  33.9%     -    0s\n",
            "     0     0   76.00000    0   29   59.00000   76.00000  28.8%     -    0s\n",
            "H    0     0                      70.0000000   76.00000  8.57%     -    0s\n",
            "\n",
            "Cutting planes:\n",
            "  Gomory: 8\n",
            "  Cover: 3\n",
            "  Implied bound: 8\n",
            "  Clique: 9\n",
            "  MIR: 3\n",
            "  StrongCG: 2\n",
            "  Flow cover: 6\n",
            "  Zero half: 1\n",
            "  RLT: 4\n",
            "  Relax-and-lift: 4\n",
            "  PSD: 2\n",
            "\n",
            "Explored 1 nodes (755 simplex iterations) in 0.51 seconds (0.03 work units)\n",
            "Thread count was 8 (of 8 available processors)\n",
            "\n",
            "Solution count 4: 70 59 24 -15 \n",
            "\n",
            "Optimal solution found (tolerance 1.00e-04)\n",
            "Best objective 7.000000000000e+01, best bound 7.000000000000e+01, gap 0.0000%\n",
            "---------------------------------------------------------------------------\n",
            "\n",
            "Multi-objectives: optimize objective 2 () ...\n",
            "---------------------------------------------------------------------------\n",
            "\n",
            "\n",
            "Loaded user MIP start with objective -4\n",
            "\n",
            "Presolve removed 185 rows and 151 columns\n",
            "Presolve time: 0.01s\n",
            "Presolved: 228 rows, 207 columns, 960 nonzeros\n",
            "Variable types: 0 continuous, 207 integer (175 binary)\n",
            "\n",
            "Root relaxation: objective -1.000000e+00, 178 iterations, 0.00 seconds (0.00 work units)\n",
            "\n",
            "    Nodes    |    Current Node    |     Objective Bounds      |     Work\n",
            " Expl Unexpl |  Obj  Depth IntInf | Incumbent    BestBd   Gap | It/Node Time\n",
            "\n",
            "     0     0   -1.00000    0   26   -4.00000   -1.00000  75.0%     -    0s\n",
            "     0     0   -1.50000    0   73   -4.00000   -1.50000  62.5%     -    0s\n",
            "H    0     0                      -3.0000000   -2.00000  33.3%     -    0s\n",
            "     0     0   -2.00000    0   27   -3.00000   -2.00000  33.3%     -    0s\n",
            "     0     0   -2.00000    0   26   -3.00000   -2.00000  33.3%     -    0s\n",
            "     0     0   -2.00000    0   56   -3.00000   -2.00000  33.3%     -    0s\n",
            "     0     0   -2.00000    0   71   -3.00000   -2.00000  33.3%     -    0s\n",
            "     0     0   -2.00000    0   32   -3.00000   -2.00000  33.3%     -    0s\n",
            "     0     0   -3.00000    0   69   -3.00000   -3.00000  0.00%     -    0s\n",
            "\n",
            "Cutting planes:\n",
            "  Gomory: 5\n",
            "  Cover: 11\n",
            "  Implied bound: 1\n",
            "  Clique: 6\n",
            "  MIR: 2\n",
            "  Zero half: 3\n",
            "  Relax-and-lift: 1\n",
            "\n",
            "Explored 1 nodes (1057 simplex iterations) in 0.72 seconds (0.05 work units)\n",
            "Thread count was 8 (of 8 available processors)\n",
            "\n",
            "Solution count 2: -3 -4 \n",
            "No other solutions better than -3\n",
            "\n",
            "Optimal solution found (tolerance 1.00e-04)\n",
            "Best objective -3.000000000000e+00, best bound -3.000000000000e+00, gap 0.0000%\n",
            "---------------------------------------------------------------------------\n",
            "\n",
            "Multi-objectives: optimize objective 3 () ...\n",
            "---------------------------------------------------------------------------\n",
            "\n",
            "\n",
            "Loaded user MIP start with objective -3\n",
            "\n",
            "Presolve removed 186 rows and 151 columns\n",
            "Presolve time: 0.01s\n",
            "Presolved: 228 rows, 207 columns, 960 nonzeros\n",
            "Variable types: 0 continuous, 207 integer (175 binary)\n",
            "\n",
            "Root relaxation: objective -8.750000e-01, 166 iterations, 0.00 seconds (0.00 work units)\n",
            "\n",
            "    Nodes    |    Current Node    |     Objective Bounds      |     Work\n",
            " Expl Unexpl |  Obj  Depth IntInf | Incumbent    BestBd   Gap | It/Node Time\n",
            "\n",
            "     0     0   -0.87500    0   76   -3.00000   -0.87500  70.8%     -    0s\n",
            "     0     0   -0.87500    0   81   -3.00000   -0.87500  70.8%     -    0s\n",
            "H    0     0                      -2.0000000   -0.87500  56.3%     -    0s\n",
            "\n",
            "Cutting planes:\n",
            "  Gomory: 15\n",
            "  Cover: 2\n",
            "  Implied bound: 1\n",
            "  Clique: 35\n",
            "  MIR: 3\n",
            "  StrongCG: 1\n",
            "  Flow cover: 1\n",
            "  Zero half: 9\n",
            "  RLT: 12\n",
            "  Relax-and-lift: 5\n",
            "  BQP: 2\n",
            "  PSD: 4\n",
            "\n",
            "Explored 1 nodes (470 simplex iterations) in 0.82 seconds (0.07 work units)\n",
            "Thread count was 8 (of 8 available processors)\n",
            "\n",
            "Solution count 2: -2 -3 \n",
            "No other solutions better than -2\n",
            "\n",
            "Optimal solution found (tolerance 1.00e-04)\n",
            "Best objective -2.000000000000e+00, best bound -2.000000000000e+00, gap 0.0000%\n",
            "\n",
            "---------------------------------------------------------------------------\n",
            "Multi-objectives: solved in 0.82 seconds (0.07 work units), solution count 6\n",
            "\n"
          ]
        }
      ],
      "source": [
        "set_objectives()\n",
        "\n",
        "#model.Params.TimeLimit = 60\n",
        "model.optimize()"
      ]
    },
    {
      "cell_type": "code",
      "execution_count": 12,
      "metadata": {
        "id": "22146rRe5m4z"
      },
      "outputs": [],
      "source": [
        "# The Status attribute  provides current optimization status of the model object m\n",
        "# In workforce model, we check if the model is infeasible or unbounded and report this situation\n",
        "status = model.Status\n",
        "if status == GRB.Status.INF_OR_UNBD or status == GRB.Status.INFEASIBLE  or status == GRB.Status.UNBOUNDED:\n",
        "    print('The model cannot be solved because it is infeasible or unbounded')\n",
        "# If the optimization status of the model is not optimal for some other reason, we report that \n",
        "# situation.\n",
        "if status != GRB.Status.OPTIMAL:\n",
        "    print('Optimization was stopped with status ' + str(status))\n"
      ]
    },
    {
      "cell_type": "code",
      "execution_count": 23,
      "metadata": {
        "id": "N0H4xiin5m4z",
        "outputId": "a635b085-26ac-48eb-83cc-7c6c3c641992"
      },
      "outputs": [
        {
          "name": "stdout",
          "output_type": "stream",
          "text": [
            "Gain: 44, max project per staff: 1, max_length_project: 12\n",
            "Number of jobs finished: 4\n",
            "Job1 started on day 23 and ended on day 0\n",
            "Job2 started on day 23 and ended on day 0\n",
            "Job3 started on day 4 and ended on day 11\n",
            "Job4 started on day 23 and ended on day 0\n",
            "Job5 started on day 1 and ended on day 12\n",
            "Job6 started on day 5 and ended on day 15\n",
            "Job7 started on day 23 and ended on day 0\n",
            "Job8 started on day 23 and ended on day 0\n",
            "Job9 started on day 23 and ended on day 0\n",
            "Job10 started on day 23 and ended on day 0\n",
            "Job11 started on day 23 and ended on day 0\n",
            "Job12 started on day 23 and ended on day 0\n",
            "Job13 started on day 23 and ended on day 0\n",
            "Job14 started on day 1 and ended on day 12\n",
            "Job15 started on day 23 and ended on day 0\n"
          ]
        }
      ],
      "source": [
        "print(f\"Gain: {int(gain_total.X)}, max project per staff: {int(max_has_worked.X)}, max_length_project: {int(max_job_len.X)}\")\n",
        "\n",
        "schedules = { staff: {jour: 0 for jour in range(1, data[\"horizon\"]+1)} for staff in staff_names}\n",
        "jobs_summary = {job: {comp: 0 for comp in data[\"qualifications\"]} for job in jobs_names}\n",
        "for (staff, comp, jour, job), value in T.items():\n",
        "    schedules[staff][jour] += int(value.X)\n",
        "    jobs_summary[job][comp] += int(value.X)\n",
        "    if value.X == 1:\n",
        "        if job == \"Job11\":\n",
        "            print(f\"{staff} is working with comp {comp} on {job} on day {jour}\")\n",
        "        pass\n",
        "\n",
        "n_jobs_finished = 0\n",
        "for job in jobs_names:\n",
        "    n_jobs_finished += int(all_J[job].X)\n",
        "print(f\"Number of jobs finished: {n_jobs_finished}\")\n",
        "\n",
        "dates_summary = {}\n",
        "for job in jobs_names:\n",
        "    dates_summary[job] = {\"start\": int(start_dates[job].X), \"end\":int(end_dates[job].X)}\n",
        "    print(f\"{job} started on day {dates_summary[job]['start']} and ended on day {dates_summary[job]['end']}\")\n",
        "\n",
        "\n",
        "#Pour medium:\n",
        "#Gain: 383, max project per staff: 5, max_length_project: 11\n",
        "#Number of jobs finished: 11\n"
      ]
    },
    {
      "cell_type": "code",
      "execution_count": 15,
      "metadata": {
        "id": "civLRPCN5m40",
        "outputId": "28f2af58-1d0b-4d3c-e3a3-2bb60793ba49"
      },
      "outputs": [
        {
          "name": "stdout",
          "output_type": "stream",
          "text": [
            "Job1 took -22 days to complete\n",
            "Job2 took 5 days to complete\n",
            "Job3 took 6 days to complete\n",
            "Job4 took 6 days to complete\n",
            "Job5 took 7 days to complete\n",
            "Job6 took 6 days to complete\n",
            "Job7 took -22 days to complete\n",
            "Job8 took -22 days to complete\n",
            "Job9 took 6 days to complete\n",
            "Job10 took 7 days to complete\n",
            "Job11 took -22 days to complete\n",
            "Job12 took 7 days to complete\n",
            "Job13 took 7 days to complete\n",
            "Job14 took 7 days to complete\n",
            "Job15 took 6 days to complete\n"
          ]
        }
      ],
      "source": [
        "for job in jobs_names:\n",
        "    print(f\"{job} took {int(job_lens[job].X)} days to complete\")"
      ]
    },
    {
      "cell_type": "code",
      "execution_count": 16,
      "metadata": {
        "id": "d2-zOD0Q5m40",
        "outputId": "0202b289-fb4d-4f1e-e115-04992cae69b2"
      },
      "outputs": [
        {
          "name": "stdout",
          "output_type": "stream",
          "text": [
            "Job1 requires at least 4 days of comp A and got 0 instead\n",
            "Job1 requires at least 4 days of comp B and got 0 instead\n",
            "Job2 requires at least 1 days of comp C and got 0 instead\n",
            "Job6 requires at least 4 days of comp D and got 3 instead\n",
            "Job7 requires at least 1 days of comp F and got 0 instead\n",
            "Job7 requires at least 5 days of comp D and got 0 instead\n",
            "Job7 requires at least 5 days of comp E and got 0 instead\n",
            "Job8 requires at least 6 days of comp F and got 0 instead\n",
            "Job8 requires at least 3 days of comp E and got 0 instead\n",
            "Job11 requires at least 6 days of comp F and got 0 instead\n",
            "Job11 requires at least 2 days of comp G and got 0 instead\n",
            "Job11 requires at least 1 days of comp H and got 0 instead\n",
            "Job15 requires at least 4 days of comp H and got 3 instead\n"
          ]
        }
      ],
      "source": [
        "def check_unicite(schedules):\n",
        "    \"\"\"On verifie que chaque employe ne travaille que sur un job et une competence par jour\"\"\"\n",
        "    for staff, sched in schedules.items():\n",
        "        for jour, n in sched.items():\n",
        "            if n > 1:\n",
        "                print(f\"{staff} works {n} times on day {jour}\")\n",
        "\n",
        "def check_completion(jobs_summary):\n",
        "    \"\"\"On verifie que chaque job est bien complete\"\"\"\n",
        "\n",
        "    for job in jobs_names:\n",
        "        for comp in data[\"qualifications\"]:\n",
        "            if jobs_summary[job][comp] < N[job][comp]:\n",
        "                print(f\"{job} requires at least {N[job][comp]} days of comp {comp} and got {jobs_summary[job][comp]} instead\")\n",
        "            elif jobs_summary[job][comp] > N[job][comp]:\n",
        "                print(f\"{job} requires only {N[job][comp]} days of comp {comp} and got {jobs_summary[job][comp]} instead\")\n",
        "    \n",
        "def check_end_dates(dates_summary):\n",
        "    \"\"\"On verifie que les dates de fin soient cohérentes\"\"\"\n",
        "    for job, dates in dates_summary.items():\n",
        "        for (_, _, jour, _job), value in T.items():\n",
        "            if int(value.X)==1 and job == _job:\n",
        "                if jour > dates[\"end\"]:\n",
        "                    print(f\"End date {dates['end']} is not correct for {job}\")\n",
        "                elif jour < dates[\"start\"]:\n",
        "                    print(f\"Start date {dates['start']} is not correct for {job}\")\n",
        "        \n",
        "\n",
        "\n",
        "check_unicite(schedules)\n",
        "check_completion(jobs_summary)\n",
        "check_end_dates(dates_summary)"
      ]
    },
    {
      "cell_type": "code",
      "execution_count": 24,
      "metadata": {
        "id": "EFcK_E7X5m40"
      },
      "outputs": [],
      "source": [
        "def make_planning(T):\n",
        "  staff_list = []\n",
        "  comp_list = []\n",
        "  jour_list = []\n",
        "  job_list = [] \n",
        "  for (staff, comp, jour, job), value in T.items():\n",
        "     if value.X == 1:\n",
        "        staff_list.append(staff) \n",
        "        comp_list.append(comp)\n",
        "        jour_list.append(jour)\n",
        "        job_list.append(job) \n",
        "        #print(f\"{staff} is working with comp {comp} on {job} on day {jour}\") \n",
        "        index_staff = list(np.unique(staff_list))\n",
        "        jour_number = max(jour_list)\n",
        "        df = pd.DataFrame(np.zeros((len(index_staff), jour_number-1), dtype=np.object_), index=index_staff, columns=list(range(1, jour_number))) \n",
        "        for (staff, comp, jour, job), value in T.items():\n",
        "          if value.X == 1: \n",
        "            df.loc[staff,jour] = str(job).split('b')[1] + ',' + str(comp) \n",
        "        df = df.fillna('X,X')\n",
        "        df = df.replace(0, 'X,X')\n",
        "        return df"
      ]
    },
    {
      "cell_type": "code",
      "execution_count": 25,
      "metadata": {
        "id": "X9yXq4nZ5m40",
        "outputId": "e66a0632-454f-44e4-ebe3-021a44fced4c"
      },
      "outputs": [
        {
          "data": {
            "text/html": [
              "<div>\n",
              "<style scoped>\n",
              "    .dataframe tbody tr th:only-of-type {\n",
              "        vertical-align: middle;\n",
              "    }\n",
              "\n",
              "    .dataframe tbody tr th {\n",
              "        vertical-align: top;\n",
              "    }\n",
              "\n",
              "    .dataframe thead th {\n",
              "        text-align: right;\n",
              "    }\n",
              "</style>\n",
              "<table border=\"1\" class=\"dataframe\">\n",
              "  <thead>\n",
              "    <tr style=\"text-align: right;\">\n",
              "      <th></th>\n",
              "      <th>1</th>\n",
              "      <th>2</th>\n",
              "      <th>3</th>\n",
              "      <th>4</th>\n",
              "      <th>6</th>\n",
              "      <th>7</th>\n",
              "      <th>9</th>\n",
              "      <th>11</th>\n",
              "      <th>5</th>\n",
              "      <th>8</th>\n",
              "      <th>10</th>\n",
              "      <th>12</th>\n",
              "      <th>13</th>\n",
              "      <th>15</th>\n",
              "    </tr>\n",
              "  </thead>\n",
              "  <tbody>\n",
              "    <tr>\n",
              "      <th>Olivia</th>\n",
              "      <td>X,X</td>\n",
              "      <td>X,X</td>\n",
              "      <td>X,X</td>\n",
              "      <td>3,A</td>\n",
              "      <td>3,A</td>\n",
              "      <td>3,A</td>\n",
              "      <td>3,A</td>\n",
              "      <td>3,C</td>\n",
              "      <td>X,X</td>\n",
              "      <td>X,X</td>\n",
              "      <td>X,X</td>\n",
              "      <td>X,X</td>\n",
              "      <td>X,X</td>\n",
              "      <td>X,X</td>\n",
              "    </tr>\n",
              "    <tr>\n",
              "      <th>Liam</th>\n",
              "      <td>X,X</td>\n",
              "      <td>X,X</td>\n",
              "      <td>X,X</td>\n",
              "      <td>X,X</td>\n",
              "      <td>6,D</td>\n",
              "      <td>6,E</td>\n",
              "      <td>X,X</td>\n",
              "      <td>6,D</td>\n",
              "      <td>6,E</td>\n",
              "      <td>6,D</td>\n",
              "      <td>6,D</td>\n",
              "      <td>6,E</td>\n",
              "      <td>6,E</td>\n",
              "      <td>6,E</td>\n",
              "    </tr>\n",
              "    <tr>\n",
              "      <th>Emma</th>\n",
              "      <td>X,X</td>\n",
              "      <td>X,X</td>\n",
              "      <td>X,X</td>\n",
              "      <td>5,B</td>\n",
              "      <td>5,B</td>\n",
              "      <td>X,X</td>\n",
              "      <td>X,X</td>\n",
              "      <td>X,X</td>\n",
              "      <td>5,B</td>\n",
              "      <td>X,X</td>\n",
              "      <td>X,X</td>\n",
              "      <td>X,X</td>\n",
              "      <td>X,X</td>\n",
              "      <td>X,X</td>\n",
              "    </tr>\n",
              "    <tr>\n",
              "      <th>Noah</th>\n",
              "      <td>5,C</td>\n",
              "      <td>5,C</td>\n",
              "      <td>5,C</td>\n",
              "      <td>5,D</td>\n",
              "      <td>5,D</td>\n",
              "      <td>5,D</td>\n",
              "      <td>5,D</td>\n",
              "      <td>5,C</td>\n",
              "      <td>5,D</td>\n",
              "      <td>5,D</td>\n",
              "      <td>5,D</td>\n",
              "      <td>5,D</td>\n",
              "      <td>X,X</td>\n",
              "      <td>X,X</td>\n",
              "    </tr>\n",
              "    <tr>\n",
              "      <th>Amelia</th>\n",
              "      <td>14,G</td>\n",
              "      <td>14,J</td>\n",
              "      <td>X,X</td>\n",
              "      <td>14,G</td>\n",
              "      <td>X,X</td>\n",
              "      <td>X,X</td>\n",
              "      <td>14,J</td>\n",
              "      <td>X,X</td>\n",
              "      <td>14,J</td>\n",
              "      <td>14,G</td>\n",
              "      <td>14,G</td>\n",
              "      <td>14,J</td>\n",
              "      <td>X,X</td>\n",
              "      <td>X,X</td>\n",
              "    </tr>\n",
              "  </tbody>\n",
              "</table>\n",
              "</div>"
            ],
            "text/plain": [
              "          1     2    3     4    6    7     9    11    5     8     10    12  \\\n",
              "Olivia   X,X   X,X  X,X   3,A  3,A  3,A   3,A  3,C   X,X   X,X   X,X   X,X   \n",
              "Liam     X,X   X,X  X,X   X,X  6,D  6,E   X,X  6,D   6,E   6,D   6,D   6,E   \n",
              "Emma     X,X   X,X  X,X   5,B  5,B  X,X   X,X  X,X   5,B   X,X   X,X   X,X   \n",
              "Noah     5,C   5,C  5,C   5,D  5,D  5,D   5,D  5,C   5,D   5,D   5,D   5,D   \n",
              "Amelia  14,G  14,J  X,X  14,G  X,X  X,X  14,J  X,X  14,J  14,G  14,G  14,J   \n",
              "\n",
              "         13   15  \n",
              "Olivia  X,X  X,X  \n",
              "Liam    6,E  6,E  \n",
              "Emma    X,X  X,X  \n",
              "Noah    X,X  X,X  \n",
              "Amelia  X,X  X,X  "
            ]
          },
          "execution_count": 25,
          "metadata": {},
          "output_type": "execute_result"
        }
      ],
      "source": [
        "df = make_planning(T)\n",
        "df"
      ]
    },
    {
      "cell_type": "code",
      "execution_count": 26,
      "metadata": {
        "id": "vyOy57rF5m40"
      },
      "outputs": [],
      "source": [
        "def plot_planning(T):\n",
        "\n",
        "  df = make_planning(T)\n",
        "\n",
        "  # Plot the results\n",
        "  plt.rcParams[\"figure.figsize\"] = (20, 6)\n",
        "  fig, ax = plt.subplots()\n",
        "  ax.set_title(\"Planning\")\n",
        "  ax.set_xlabel(\"Jour\")\n",
        "  ax.set_ylabel(\"Employé\")\n",
        "\n",
        "  # Set xticks\n",
        "  days = range(1, data[\"horizon\"] + 1)\n",
        "  ax.set_xticks(days)\n",
        "\n",
        "  #set colors \n",
        "  colors = [\n",
        "    \"red\",\n",
        "    \"blue\",\n",
        "    \"green\",\n",
        "    \"yellow\",\n",
        "    \"orange\",\n",
        "    \"purple\",\n",
        "    \"pink\",\n",
        "    \"brown\",\n",
        "    \"gray\",\n",
        "    \"olive\",\n",
        "    \"cyan\",\n",
        "    'darkblue',\n",
        "    'darkkhaki',\n",
        "    'darkcyan', 'darkred',  'darksalmon', 'darkslategray', 'darkgoldenrod',\n",
        "    ]\n",
        "  \n",
        "  #plot df info\n",
        "  cpt = 0\n",
        "  for index, row in df.iterrows():\n",
        "    staff = index\n",
        "    for i, x in row.iteritems():\n",
        "      if(x.split(',')[0]!='X'):\n",
        "        job = int(x.split(',')[0])\n",
        "        comp = x.split(',')[1]\n",
        "        ax.barh(\n",
        "        staff,\n",
        "        1,\n",
        "        left=i - 1,\n",
        "        color=colors[job],\n",
        "        label = \"Job \" + str(job))\n",
        "\n",
        "        ax.text(\n",
        "        i-0.5,\n",
        "        cpt,\n",
        "        comp,\n",
        "        fontsize=10,\n",
        "        color=\"black\",\n",
        "        ha=\"center\",\n",
        "        va=\"center\")\n",
        "    cpt += 1\n",
        "\n",
        "  #Add a legend for the colors quals\n",
        "  handles, labels = ax.get_legend_handles_labels()\n",
        "  by_label = dict(zip(labels, handles))\n",
        "  ax.legend(by_label.values(), by_label.keys())\n",
        "  plt.show()"
      ]
    },
    {
      "cell_type": "code",
      "execution_count": 27,
      "metadata": {
        "id": "uXOBs5zJ5m41",
        "outputId": "e2303f5d-5779-416f-d6e3-5fd6b4905660"
      },
      "outputs": [
        {
          "data": {
            "image/png": "[encoded data removed]",
            "text/plain": [
              "<Figure size 1440x432 with 1 Axes>"
            ]
          },
          "metadata": {
            "needs_background": "light"
          },
          "output_type": "display_data"
        }
      ],
      "source": [
        "plot_planning(T)"
      ]
    },
    {
      "cell_type": "code",
      "execution_count": null,
      "metadata": {
        "id": "7TsP9gJX5m41"
      },
      "outputs": [],
      "source": []
    }
  ],
  "metadata": {
    "colab": {
      "provenance": []
    },
    "kernelspec": {
      "display_name": "base",
      "language": "python",
      "name": "python3"
    },
    "language_info": {
      "codemirror_mode": {
        "name": "ipython",
        "version": 3
      },
      "file_extension": ".py",
      "mimetype": "text/x-python",
      "name": "python",
      "nbconvert_exporter": "python",
      "pygments_lexer": "ipython3",
      "version": "3.7.3"
    },
    "vscode": {
      "interpreter": {
        "hash": "d9e62eab86bd436d2fce80d102761ec72269157a435bf8bd5d187ffe0db7b4ef"
      }
    }
  },
  "nbformat": 4,
  "nbformat_minor": 0
}
